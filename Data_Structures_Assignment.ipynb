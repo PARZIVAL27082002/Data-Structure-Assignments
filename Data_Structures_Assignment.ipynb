{
  "nbformat": 4,
  "nbformat_minor": 0,
  "metadata": {
    "colab": {
      "provenance": [],
      "authorship_tag": "ABX9TyPWoFO8N9yof/XrHEvrsunf",
      "include_colab_link": true
    },
    "kernelspec": {
      "name": "python3",
      "display_name": "Python 3"
    },
    "language_info": {
      "name": "python"
    }
  },
  "cells": [
    {
      "cell_type": "markdown",
      "metadata": {
        "id": "view-in-github",
        "colab_type": "text"
      },
      "source": [
        "<a href=\"https://colab.research.google.com/github/PARZIVAL27082002/Data-structure-Assignments/blob/main/Data_Structures_Assignment.ipynb\" target=\"_parent\"><img src=\"https://colab.research.google.com/assets/colab-badge.svg\" alt=\"Open In Colab\"/></a>"
      ]
    },
    {
      "cell_type": "code",
      "execution_count": null,
      "metadata": {
        "id": "I9SC1FsUq5Ow"
      },
      "outputs": [],
      "source": [
        "''' Deques offer several advantages over lists when implementing queues, including improved efficiency,\n",
        " constant-time operations,reduced memory usage, and built-in functionality tailored for queue operations.'''"
      ]
    },
    {
      "cell_type": "code",
      "source": [
        "'''\n",
        "One real-world scenario where using a stack would be more practical than a list for data storage and\n",
        "retrieval is in the context of a web browser's back button functionality.\n",
        "\n",
        "Why a stack is a good choice:\n",
        "\n",
        "1. The back button functionality essentially follows the Last-In-First-Out (LIFO) principle. When you click the back button, you want to access the most recently visited page.\n",
        "2. Stacks are data structures that follow the LIFO principle, making them ideal for this scenario.\n",
        "3. Each time you visit a new page, the browser pushes the current page's URL onto the stack.\n",
        "4. When you click the back button, the browser pops the top element (most recently visited page) off the stack and displays it.\n",
        "\n",
        "'''"
      ],
      "metadata": {
        "id": "UqCyQRgUriD1"
      },
      "execution_count": null,
      "outputs": []
    },
    {
      "cell_type": "code",
      "source": [
        "'''\n",
        "The primary advantage of using sets in Python is their ability to store unique elements. Sets are unordered\n",
        "collections that only allow distinct elements, making them particularly useful in situations where:\n",
        "\n",
        "1. Removing duplicates is important:\n",
        "2. Checking for membership:\n",
        "3. Performing set operations:\n",
        "\n",
        "'''"
      ],
      "metadata": {
        "id": "1BcrnvRosiGi"
      },
      "execution_count": null,
      "outputs": []
    },
    {
      "cell_type": "code",
      "source": [
        "'''\n",
        "If you are working extensively with numerical data and performance/memory efficiency is critical\n",
        "(e.g., scientific computing, data analysis, numerical simulations), using arrays can be advantageous.\n",
        "\n",
        "Lists are more general-purpose and are suitable for situations where flexibility and ease of use are\n",
        "prioritized over performance and memory considerations.\n",
        "'''"
      ],
      "metadata": {
        "id": "zVATDPoytDhm"
      },
      "execution_count": null,
      "outputs": []
    },
    {
      "cell_type": "code",
      "source": [
        "'''\n",
        "The primary difference between dictionaries and lists in Python is their structure and how they store data:\n",
        "\n",
        "Lists:\n",
        "\n",
        "  Lists are ordered collections of items.They maintain the order in which elements are added.\n",
        "  Each element in a list has an index associated with it, starting from 0.Lists are accessed using their indices, allowing random access to elements.\n",
        "\n",
        "Dictionaries:\n",
        "\n",
        "  Dictionaries are unordered collections of key-value pairs.Each key is unique and maps to a specific value.\n",
        "  Values in a dictionary can be of different data types.Dictionaries are accessed using their keys, not indices.\n",
        "'''"
      ],
      "metadata": {
        "id": "_xDwGL9JuQy1"
      },
      "execution_count": null,
      "outputs": []
    }
  ]
}